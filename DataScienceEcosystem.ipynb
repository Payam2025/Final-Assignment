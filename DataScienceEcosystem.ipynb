{
 "cells": [
  {
   "cell_type": "markdown",
   "id": "bcc65b31-6b19-40e9-bc76-72968eab5c90",
   "metadata": {},
   "source": [
    "# Data Science Tools and Ecosystem"
   ]
  },
  {
   "cell_type": "markdown",
   "id": "bb874895-8615-4e93-af3d-2ed1f86881b4",
   "metadata": {},
   "source": [
    "In this notebook, Data Science Tools and Ecosystem are summarized."
   ]
  },
  {
   "cell_type": "markdown",
   "id": "895f62cd-b839-433d-85ab-803051a9047e",
   "metadata": {},
   "source": [
    "**objectives:**\n",
    "- List popular languages for Data Science\n",
    "- Identify coomonly used libraries in Data Science\n",
    "- Create simple arithmetic expressions in Python\n",
    "- Convert units of measurement using Python\n",
    "- Understand and create tables using markdown "
   ]
  },
  {
   "cell_type": "markdown",
   "id": "034bd2a8-d70f-401b-9c93-59084c1e769e",
   "metadata": {},
   "source": [
    "Some of the popular languages that Data Scientists use are:\n",
    "1. Python\n",
    "2. Julia\n",
    "3. R"
   ]
  },
  {
   "cell_type": "markdown",
   "id": "9d0d88c1-eabb-41fb-84ad-7e92f85d1e8b",
   "metadata": {},
   "source": [
    "Some of the commonly used libraries used by Data Scientists include:"
   ]
  },
  {
   "cell_type": "markdown",
   "id": "6255b71e-77c2-429a-8ab5-67ab35a7259b",
   "metadata": {},
   "source": [
    "1. NumPy\n",
    "2. Pandas\n",
    "3. Matplotlib\n",
    "4. Scikit-learn\n",
    "5. TensorFlow\n",
    "6. Keras\n",
    "7. PyTorch\n"
   ]
  },
  {
   "cell_type": "markdown",
   "id": "e1ebca22-5fad-40b1-80c1-d513acdb886c",
   "metadata": {},
   "source": [
    "| Data Science Tools |\n",
    "|--------------------|\n",
    "| Jupyter Notebook   |\n",
    "| RStudio            |\n",
    "| Appache Zeppelin   |"
   ]
  },
  {
   "cell_type": "markdown",
   "id": "a5eca7ca-95ae-4190-8e3a-db46543237c9",
   "metadata": {},
   "source": [
    "### Below are a few examples of evaluating arithmetic expressions in Python"
   ]
  },
  {
   "cell_type": "code",
   "execution_count": 16,
   "id": "20fc8f20-8d6d-4e02-b70d-c4cd6982577a",
   "metadata": {},
   "outputs": [
    {
     "data": {
      "text/plain": [
       "17"
      ]
     },
     "execution_count": 16,
     "metadata": {},
     "output_type": "execute_result"
    }
   ],
   "source": [
    "#  This a simple arithmetic expression to mutiply then add integers\n",
    "(3*4"
   ]
  },
  {
   "cell_type": "code",
   "execution_count": 20,
   "id": "f27b8a80-f965-464e-b3b6-42a043c5ab6a",
   "metadata": {},
   "outputs": [
    {
     "data": {
      "text/plain": [
       "3.3333333333333335"
      ]
     },
     "execution_count": 20,
     "metadata": {},
     "output_type": "execute_result"
    }
   ],
   "source": [
    "# This will convert 200 minutes to hours by diving by 60\n",
    "200 / 60"
   ]
  },
  {
   "cell_type": "markdown",
   "id": "c6e649f2-0bed-4a7e-8ab4-241ef1f09dc1",
   "metadata": {},
   "source": [
    "## Author\n",
    "Payam Mohammadi"
   ]
  },
  {
   "cell_type": "code",
   "execution_count": null,
   "id": "43854b2e-0af7-493c-a966-f6f8553307e5",
   "metadata": {},
   "outputs": [],
   "source": []
  }
 ],
 "metadata": {
  "kernelspec": {
   "display_name": "Python 3 (ipykernel)",
   "language": "python",
   "name": "python3"
  },
  "language_info": {
   "codemirror_mode": {
    "name": "ipython",
    "version": 3
   },
   "file_extension": ".py",
   "mimetype": "text/x-python",
   "name": "python",
   "nbconvert_exporter": "python",
   "pygments_lexer": "ipython3",
   "version": "3.12.4"
  }
 },
 "nbformat": 4,
 "nbformat_minor": 5
}
